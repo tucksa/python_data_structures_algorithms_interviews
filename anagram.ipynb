{
 "cells": [
  {
   "cell_type": "code",
   "execution_count": 48,
   "metadata": {},
   "outputs": [],
   "source": [
    "def anagram(str1, str2):\n",
    "    #change the strings to lowercase\n",
    "    str1.lower()\n",
    "    str2.lower()\n",
    "    #change to list\n",
    "    str1 = list(str1)\n",
    "    str2 = list(str2)\n",
    "    #remove spaces\n",
    "    def no_space(str):\n",
    "        i = 0\n",
    "        for n in str:\n",
    "            if n == ' ':\n",
    "                str.pop(i)\n",
    "                i+= 1\n",
    "            else:\n",
    "                i += 1\n",
    "    no_space(str1)\n",
    "    no_space(str2)\n",
    "    #variable isAnagram set to false\n",
    "    isAnagram = False\n",
    "    #loop through str1\n",
    "    for n in str1:\n",
    "        #if letter of str1 in str2\n",
    "        if str2.count(n)!= 0:\n",
    "            #then remove the letter in str2\n",
    "            i = str2.index(n)\n",
    "            str2.pop(i)\n",
    "        #else\n",
    "        else:\n",
    "            #return false\n",
    "            return False\n",
    "    #if length of str2 is 0 the isAnagram is True \n",
    "    print(str2)\n",
    "    if len(str2) == 0:\n",
    "        isAnagram = True\n",
    "    #return isAnagram\n",
    "    return isAnagram    "
   ]
  },
  {
   "cell_type": "code",
   "execution_count": 49,
   "metadata": {},
   "outputs": [
    {
     "name": "stdout",
     "output_type": "stream",
     "text": [
      "[]\n"
     ]
    },
    {
     "data": {
      "text/plain": [
       "True"
      ]
     },
     "execution_count": 49,
     "metadata": {},
     "output_type": "execute_result"
    }
   ],
   "source": [
    "anagram('god dew', 'dog wed')"
   ]
  },
  {
   "cell_type": "code",
   "execution_count": 20,
   "metadata": {},
   "outputs": [
    {
     "data": {
      "text/plain": [
       "False"
      ]
     },
     "execution_count": 20,
     "metadata": {},
     "output_type": "execute_result"
    }
   ],
   "source": [
    "anagram('hello', 'hi')"
   ]
  },
  {
   "cell_type": "code",
   "execution_count": 23,
   "metadata": {},
   "outputs": [
    {
     "data": {
      "text/plain": [
       "1"
      ]
     },
     "execution_count": 23,
     "metadata": {},
     "output_type": "execute_result"
    }
   ],
   "source": [
    "str = 'l i o u'\n",
    "str.find(' ')"
   ]
  },
  {
   "cell_type": "code",
   "execution_count": null,
   "metadata": {},
   "outputs": [],
   "source": []
  },
  {
   "cell_type": "code",
   "execution_count": null,
   "metadata": {},
   "outputs": [],
   "source": []
  },
  {
   "cell_type": "code",
   "execution_count": null,
   "metadata": {},
   "outputs": [],
   "source": []
  }
 ],
 "metadata": {
  "kernelspec": {
   "display_name": "Python 3",
   "language": "python",
   "name": "python3"
  },
  "language_info": {
   "codemirror_mode": {
    "name": "ipython",
    "version": 3
   },
   "file_extension": ".py",
   "mimetype": "text/x-python",
   "name": "python",
   "nbconvert_exporter": "python",
   "pygments_lexer": "ipython3",
   "version": "3.7.6"
  }
 },
 "nbformat": 4,
 "nbformat_minor": 4
}
