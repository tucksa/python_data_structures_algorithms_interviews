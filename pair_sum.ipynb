{
 "cells": [
  {
   "cell_type": "markdown",
   "metadata": {},
   "source": [
    "## Pair_sum function"
   ]
  },
  {
   "cell_type": "markdown",
   "metadata": {},
   "source": [
    "#### Takes in an array and a int, go through the array and finds all unique pairs that add up to the int"
   ]
  },
  {
   "cell_type": "code",
   "execution_count": 3,
   "metadata": {},
   "outputs": [],
   "source": [
    "def pair_sum(arr, int):\n",
    "    #variable to store pairs\n",
    "    pairs = []\n",
    "    #loop through array\n",
    "    for num1 in arr:\n",
    "        #loop again so you are comparing each individual to each item\n",
    "        for num2 in arr:\n",
    "            #if loop1 item plus loop2 item sum to int then check\n",
    "            if num1 + num2 == int:\n",
    "                #if pair does not exist in list of pairs then add to list\n",
    "                if [num1, num2] not in pairs and [num2, num1] not in pairs:\n",
    "                    pairs.append([num1,num2])\n",
    "    #return list length and list\n",
    "    return len(pairs), pairs    "
   ]
  },
  {
   "cell_type": "code",
   "execution_count": 4,
   "metadata": {},
   "outputs": [
    {
     "data": {
      "text/plain": [
       "(2, [[1, 3], [2, 2]])"
      ]
     },
     "execution_count": 4,
     "metadata": {},
     "output_type": "execute_result"
    }
   ],
   "source": [
    "pair_sum([1,3,2,2,6], 4)"
   ]
  },
  {
   "cell_type": "markdown",
   "metadata": {},
   "source": [
    "#### Solution suggested to bring alg to O(n)"
   ]
  },
  {
   "cell_type": "code",
   "execution_count": 11,
   "metadata": {},
   "outputs": [],
   "source": [
    "def imp_pair_sum(arr, int):\n",
    "    #create sets (only unique and ordered items from iterable) of seen nums and output\n",
    "    seen = set()\n",
    "    output = set()\n",
    "    \n",
    "    #loop through arr\n",
    "    for num in arr:\n",
    "        #create a target value of what would be needed with num to get to int\n",
    "        target = int - num\n",
    "        #if target value exists in seen then there is a match for num so add the pair to output\n",
    "        if target in seen:\n",
    "            output.add((min(target, num), max(target, num)))\n",
    "        #else there isn't a match for num so add the num to seen and continue on looking for matches\n",
    "        else:\n",
    "            seen.add(num)\n",
    "    #return length of output and output\n",
    "    return len(output), output"
   ]
  },
  {
   "cell_type": "code",
   "execution_count": 12,
   "metadata": {},
   "outputs": [
    {
     "data": {
      "text/plain": [
       "(2, {(1, 3), (2, 2)})"
      ]
     },
     "execution_count": 12,
     "metadata": {},
     "output_type": "execute_result"
    }
   ],
   "source": [
    "imp_pair_sum([1,2,3,2,5], 4)"
   ]
  },
  {
   "cell_type": "code",
   "execution_count": null,
   "metadata": {},
   "outputs": [],
   "source": []
  }
 ],
 "metadata": {
  "kernelspec": {
   "display_name": "Python 3",
   "language": "python",
   "name": "python3"
  },
  "language_info": {
   "codemirror_mode": {
    "name": "ipython",
    "version": 3
   },
   "file_extension": ".py",
   "mimetype": "text/x-python",
   "name": "python",
   "nbconvert_exporter": "python",
   "pygments_lexer": "ipython3",
   "version": "3.7.6"
  }
 },
 "nbformat": 4,
 "nbformat_minor": 4
}
