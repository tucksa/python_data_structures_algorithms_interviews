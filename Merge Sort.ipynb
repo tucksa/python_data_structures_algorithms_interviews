{
 "cells": [
  {
   "cell_type": "code",
   "execution_count": 17,
   "metadata": {},
   "outputs": [],
   "source": [
    "def myMergeSort(lst):\n",
    "    #base case\n",
    "    if len(lst) > 1:\n",
    "        midpnt = round(len(lst)/2)\n",
    "        lefthalf = lst[:midpnt]\n",
    "        righthalf = lst[midpnt:]\n",
    "        \n",
    "        myMergeSort(lefthalf)\n",
    "        myMergeSort(righthalf)\n",
    "        \n",
    "        i=0\n",
    "        j=0\n",
    "        k=0\n",
    "        \n",
    "        while i < len(lefthalf) and j < len(righthalf):\n",
    "            if lefthalf[i] < righthalf[j]:\n",
    "                lst[k] = lefthalf[i]\n",
    "                i+=1\n",
    "            else:\n",
    "                lst[k] = righthalf[j]\n",
    "                j += 1\n",
    "            k +=1\n",
    "        \n",
    "        while i < len(lefthalf):\n",
    "            lst[k] = lefthalf[i]\n",
    "            i+=1 \n",
    "            k+=1\n",
    "            \n",
    "        while j < len(righthalf):\n",
    "            lst[k] = righthalf[j]\n",
    "            j+=1\n",
    "            k+=1"
   ]
  },
  {
   "cell_type": "code",
   "execution_count": 19,
   "metadata": {},
   "outputs": [
    {
     "data": {
      "text/plain": [
       "[1, 1, 2, 3, 5, 6, 7, 8, 9]"
      ]
     },
     "execution_count": 19,
     "metadata": {},
     "output_type": "execute_result"
    }
   ],
   "source": [
    "lst = [5,1,7,2,3,8,9,1,6]\n",
    "myMergeSort(lst)\n",
    "lst"
   ]
  },
  {
   "cell_type": "code",
   "execution_count": null,
   "metadata": {},
   "outputs": [],
   "source": []
  },
  {
   "cell_type": "code",
   "execution_count": null,
   "metadata": {},
   "outputs": [],
   "source": []
  }
 ],
 "metadata": {
  "kernelspec": {
   "display_name": "Python 3",
   "language": "python",
   "name": "python3"
  },
  "language_info": {
   "codemirror_mode": {
    "name": "ipython",
    "version": 3
   },
   "file_extension": ".py",
   "mimetype": "text/x-python",
   "name": "python",
   "nbconvert_exporter": "python",
   "pygments_lexer": "ipython3",
   "version": "3.7.6"
  }
 },
 "nbformat": 4,
 "nbformat_minor": 4
}
