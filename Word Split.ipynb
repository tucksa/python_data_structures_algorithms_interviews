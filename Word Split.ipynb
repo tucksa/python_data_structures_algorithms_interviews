{
 "cells": [
  {
   "cell_type": "markdown",
   "metadata": {},
   "source": [
    "## Word Split\n",
    "#### Create a function called word_split() which takes in a string phrase and a set list_of_words. The function will then determine if it is possible to split the string in a way in which words can be made from the list of words. You can assume the phrase will only contain words found in the dictionary if it is completely splittable."
   ]
  },
  {
   "cell_type": "code",
   "execution_count": 29,
   "metadata": {},
   "outputs": [],
   "source": [
    "def word_split(st, arr):\n",
    "    #var for returned arr\n",
    "    result = []\n",
    "    #length of word\n",
    "    length = 0\n",
    "    #var for matched set to false\n",
    "    matched = False\n",
    "    #loop through arr\n",
    "    for word in arr:\n",
    "        #if st[0] == item[0]:\n",
    "        if st[0] == word[0]:\n",
    "            #if st to item length == item push to new arr\n",
    "            length = len(word)\n",
    "            if st[:length] == word:\n",
    "                #set matched to true\n",
    "                matched = True\n",
    "                result.append(word)        \n",
    "    #if matched is true\n",
    "    if matched:\n",
    "        #Base case\n",
    "        #if st length == 0 :\n",
    "        if len(st[length:]) == 0:\n",
    "            #return arr\n",
    "            return result\n",
    "        #else call back word_split with st shortened by word\n",
    "        else:\n",
    "            return result + (word_split(st[length:],arr))\n",
    "    #else return empty arr\n",
    "    else:\n",
    "        return []"
   ]
  },
  {
   "cell_type": "code",
   "execution_count": 30,
   "metadata": {},
   "outputs": [
    {
     "data": {
      "text/plain": [
       "['the', 'man', 'ran']"
      ]
     },
     "execution_count": 30,
     "metadata": {},
     "output_type": "execute_result"
    }
   ],
   "source": [
    "word_split('themanran',['the','ran','man'])"
   ]
  },
  {
   "cell_type": "code",
   "execution_count": 31,
   "metadata": {},
   "outputs": [
    {
     "data": {
      "text/plain": [
       "['i', 'love', 'dogs', 'John']"
      ]
     },
     "execution_count": 31,
     "metadata": {},
     "output_type": "execute_result"
    }
   ],
   "source": [
    "word_split('ilovedogsJohn',['i','am','a','dogs','lover','love','John'])"
   ]
  },
  {
   "cell_type": "code",
   "execution_count": 32,
   "metadata": {},
   "outputs": [
    {
     "data": {
      "text/plain": [
       "[]"
      ]
     },
     "execution_count": 32,
     "metadata": {},
     "output_type": "execute_result"
    }
   ],
   "source": [
    "word_split('themanran',['clown','ran','man'])"
   ]
  },
  {
   "cell_type": "code",
   "execution_count": null,
   "metadata": {},
   "outputs": [],
   "source": []
  }
 ],
 "metadata": {
  "kernelspec": {
   "display_name": "Python 3",
   "language": "python",
   "name": "python3"
  },
  "language_info": {
   "codemirror_mode": {
    "name": "ipython",
    "version": 3
   },
   "file_extension": ".py",
   "mimetype": "text/x-python",
   "name": "python",
   "nbconvert_exporter": "python",
   "pygments_lexer": "ipython3",
   "version": "3.7.6"
  }
 },
 "nbformat": 4,
 "nbformat_minor": 4
}
