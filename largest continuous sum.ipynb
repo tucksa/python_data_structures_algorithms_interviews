{
 "cells": [
  {
   "cell_type": "markdown",
   "metadata": {},
   "source": [
    "## Largest Continuous Sum"
   ]
  },
  {
   "cell_type": "markdown",
   "metadata": {},
   "source": [
    "#### Takes in an array and returns the largest continuous sum"
   ]
  },
  {
   "cell_type": "code",
   "execution_count": 1,
   "metadata": {},
   "outputs": [],
   "source": [
    "def large_cont_sum(arr):\n",
    "    #edge case check\n",
    "    if len(arr) == 0:\n",
    "        return 0\n",
    "    \n",
    "    #set the max and current sum equal to the first element\n",
    "    max_sum = current_sum = arr[0]\n",
    "    \n",
    "    #loop through the arr starting at arr[1] b/c arr[0] is included above\n",
    "    for num in arr[1:]:\n",
    "        #set the current sum equal to whichever is larger- either the current sum plus num or just num\n",
    "        current_sum = max((current_sum + num), num)\n",
    "        \n",
    "        #set the max_sum to whichever is larger- either the current sum or the max sum\n",
    "        max_sum = max(current_sum, max_sum)\n",
    "    \n",
    "    #return the max sum\n",
    "    return max_sum"
   ]
  },
  {
   "cell_type": "code",
   "execution_count": 2,
   "metadata": {},
   "outputs": [
    {
     "name": "stdout",
     "output_type": "stream",
     "text": [
      "ALL TEST CASES PASSED\n"
     ]
    }
   ],
   "source": [
    "from nose.tools import assert_equal\n",
    "\n",
    "class LargeContTest(object):\n",
    "    def test(self,sol):\n",
    "        assert_equal(sol([1,2,-1,3,4,-1]),9)\n",
    "        assert_equal(sol([1,2,-1,3,4,10,10,-10,-1]),29)\n",
    "        assert_equal(sol([-1,1]),1)\n",
    "        print ('ALL TEST CASES PASSED')\n",
    "        \n",
    "#Run Test\n",
    "t = LargeContTest()\n",
    "t.test(large_cont_sum)"
   ]
  },
  {
   "cell_type": "code",
   "execution_count": null,
   "metadata": {},
   "outputs": [],
   "source": []
  }
 ],
 "metadata": {
  "kernelspec": {
   "display_name": "Python 3",
   "language": "python",
   "name": "python3"
  },
  "language_info": {
   "codemirror_mode": {
    "name": "ipython",
    "version": 3
   },
   "file_extension": ".py",
   "mimetype": "text/x-python",
   "name": "python",
   "nbconvert_exporter": "python",
   "pygments_lexer": "ipython3",
   "version": "3.7.6"
  }
 },
 "nbformat": 4,
 "nbformat_minor": 4
}
