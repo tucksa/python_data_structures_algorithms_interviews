{
 "cells": [
  {
   "cell_type": "markdown",
   "metadata": {},
   "source": [
    "# Big O Notation"
   ]
  },
  {
   "cell_type": "markdown",
   "metadata": {},
   "source": [
    "### Big O notation is the relative representation of the complexity of an algorithm "
   ]
  },
  {
   "cell_type": "markdown",
   "metadata": {},
   "source": [
    "Algorithm is the steps or process to solve a problem"
   ]
  },
  {
   "cell_type": "markdown",
   "metadata": {},
   "source": [
    "#### O(1) Constant Time"
   ]
  },
  {
   "cell_type": "code",
   "execution_count": 1,
   "metadata": {},
   "outputs": [],
   "source": [
    "def get_first(lst):\n",
    "    return lst[0]"
   ]
  },
  {
   "cell_type": "markdown",
   "metadata": {},
   "source": [
    "#### O(logn) Logarithmic Time"
   ]
  },
  {
   "cell_type": "markdown",
   "metadata": {},
   "source": [
    "binary search is a great example of log(n) time.\n",
    "Given an ordered list and a value to seach for:\n",
    "1. grab the upper limit of the list (starting length of the list + 1)\n",
    "2. grab the lower limit of the list (starting at list[0])\n",
    "3. grab the middle point (starting round to nearest in of len(list)/2)\n",
    "4. exists equals false\n",
    "5. while there is still a new middle point to hit:\n",
    "    6. check if middle point is equal to the search item\n",
    "        7.if so exists equals True\n",
    "    8. elif check middle point is greater than search item\n",
    "        9. set upper limit to the current middle point value \n",
    "        10. recalculate middle point accounting for new upper limit\n",
    "   11. else check middle point is less than search item\n",
    "       12. set lower limit to current middle point value\n",
    "       13. recalculate middle point accounting for new lower limit\n",
    "14. return exists"
   ]
  },
  {
   "cell_type": "markdown",
   "metadata": {},
   "source": [
    "O(n) Linear Time"
   ]
  },
  {
   "cell_type": "code",
   "execution_count": 2,
   "metadata": {},
   "outputs": [],
   "source": [
    "def linear(list):\n",
    "    for item in list:\n",
    "        print(item)"
   ]
  },
  {
   "cell_type": "markdown",
   "metadata": {},
   "source": [
    "#### O(n^2) Quadratic Time"
   ]
  },
  {
   "cell_type": "code",
   "execution_count": 3,
   "metadata": {},
   "outputs": [],
   "source": [
    "def quad(list):\n",
    "    for i in list:\n",
    "        for n in list:\n",
    "            print(i, n)"
   ]
  },
  {
   "cell_type": "markdown",
   "metadata": {},
   "source": []
  },
  {
   "cell_type": "code",
   "execution_count": null,
   "metadata": {},
   "outputs": [],
   "source": []
  }
 ],
 "metadata": {
  "kernelspec": {
   "display_name": "Python 3",
   "language": "python",
   "name": "python3"
  },
  "language_info": {
   "codemirror_mode": {
    "name": "ipython",
    "version": 3
   },
   "file_extension": ".py",
   "mimetype": "text/x-python",
   "name": "python",
   "nbconvert_exporter": "python",
   "pygments_lexer": "ipython3",
   "version": "3.7.6"
  }
 },
 "nbformat": 4,
 "nbformat_minor": 4
}
