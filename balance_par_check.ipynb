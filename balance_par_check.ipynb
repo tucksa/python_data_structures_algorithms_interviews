{
 "cells": [
  {
   "cell_type": "markdown",
   "metadata": {},
   "source": [
    "## Balance Parentheses Check"
   ]
  },
  {
   "cell_type": "markdown",
   "metadata": {},
   "source": [
    "#### take in a string and check if it is balanced. EX:\n",
    "    '([]){[[]]}' = True\n",
    "    '([)]{}' = False\n",
    "    '([]{}' = False"
   ]
  },
  {
   "cell_type": "code",
   "execution_count": 24,
   "metadata": {},
   "outputs": [],
   "source": [
    "def balance_check(st):\n",
    "    #create a stack \n",
    "    tracker = []\n",
    "    #loop through string\n",
    "    for i in st:\n",
    "        #if item is (, [or { then push onto stack\n",
    "        if i == '(' or i == '[' or i == '{':\n",
    "            tracker.append(i)\n",
    "        #elif item is ), ], or } then pop from stack\n",
    "        elif i == ')':\n",
    "            #if pop does not = item then return false\n",
    "            if tracker[-1] != '(':\n",
    "                return False\n",
    "            else:\n",
    "                tracker.pop()\n",
    "        elif i == ']':\n",
    "            if tracker[-1] != '[':\n",
    "                return False\n",
    "            else:\n",
    "                tracker.pop()\n",
    "        elif i == '}':\n",
    "            if tracker[-1] != '{':\n",
    "                return False\n",
    "            else:\n",
    "                tracker.pop()\n",
    "        #else not a param so pass\n",
    "        else:\n",
    "            pass\n",
    "    #return length of stack is 0 \n",
    "    return len(tracker) == 0"
   ]
  },
  {
   "cell_type": "code",
   "execution_count": 26,
   "metadata": {},
   "outputs": [
    {
     "name": "stdout",
     "output_type": "stream",
     "text": [
      "ALL TEST CASES PASSED\n"
     ]
    }
   ],
   "source": [
    "\"\"\"\n",
    "RUN THIS CELL TO TEST YOUR SOLUTION\n",
    "\"\"\"\n",
    "from nose.tools import assert_equal\n",
    "\n",
    "class TestBalanceCheck(object):\n",
    "    \n",
    "    def test(self,sol):\n",
    "        assert_equal(sol('[](){([[[]]])}('),False)\n",
    "        assert_equal(sol('[{{{(())}}}]((()))'),True)\n",
    "        assert_equal(sol('[[[]])]'),False)\n",
    "        print ('ALL TEST CASES PASSED')\n",
    "        \n",
    "# Run Tests\n",
    "\n",
    "t = TestBalanceCheck()\n",
    "t.test(balance_check)"
   ]
  },
  {
   "cell_type": "code",
   "execution_count": null,
   "metadata": {},
   "outputs": [],
   "source": []
  },
  {
   "cell_type": "code",
   "execution_count": null,
   "metadata": {},
   "outputs": [],
   "source": []
  }
 ],
 "metadata": {
  "kernelspec": {
   "display_name": "Python 3",
   "language": "python",
   "name": "python3"
  },
  "language_info": {
   "codemirror_mode": {
    "name": "ipython",
    "version": 3
   },
   "file_extension": ".py",
   "mimetype": "text/x-python",
   "name": "python",
   "nbconvert_exporter": "python",
   "pygments_lexer": "ipython3",
   "version": "3.7.6"
  }
 },
 "nbformat": 4,
 "nbformat_minor": 4
}
